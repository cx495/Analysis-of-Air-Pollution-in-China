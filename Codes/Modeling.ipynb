{
 "cells": [
  {
   "cell_type": "code",
   "execution_count": 1,
   "metadata": {
    "collapsed": true
   },
   "outputs": [],
   "source": [
    "import pandas as pd\n",
    "import numpy as np\n",
    "import statsmodels.formula.api as smf\n",
    "import matplotlib.pylab as plt\n",
    "%matplotlib inline"
   ]
  },
  {
   "cell_type": "code",
   "execution_count": 13,
   "metadata": {
    "collapsed": false
   },
   "outputs": [],
   "source": [
    "d = {'y' : pd.Series([85.09, 101.81, 104.05, 99.09,90.52,101.71,97.73,82.73,72.86], index=['1', '2', '3', '4','5','6','7','8','9']),\n",
    "  'x1' : pd.Series([348.7, 400.1, 480.9, 498.3,520,543.7,559.1,561,571.8], \n",
    "                  index=['1', '2', '3', '4','5','6','7','8','9'])}"
   ]
  },
  {
   "cell_type": "code",
   "execution_count": 14,
   "metadata": {
    "collapsed": true
   },
   "outputs": [],
   "source": [
    "df = pd.DataFrame(d)"
   ]
  },
  {
   "cell_type": "code",
   "execution_count": 15,
   "metadata": {
    "collapsed": false
   },
   "outputs": [
    {
     "data": {
      "text/html": [
       "<div>\n",
       "<table border=\"1\" class=\"dataframe\">\n",
       "  <thead>\n",
       "    <tr style=\"text-align: right;\">\n",
       "      <th></th>\n",
       "      <th>x1</th>\n",
       "      <th>y</th>\n",
       "    </tr>\n",
       "  </thead>\n",
       "  <tbody>\n",
       "    <tr>\n",
       "      <th>1</th>\n",
       "      <td>348.7</td>\n",
       "      <td>85.09</td>\n",
       "    </tr>\n",
       "    <tr>\n",
       "      <th>2</th>\n",
       "      <td>400.1</td>\n",
       "      <td>101.81</td>\n",
       "    </tr>\n",
       "    <tr>\n",
       "      <th>3</th>\n",
       "      <td>480.9</td>\n",
       "      <td>104.05</td>\n",
       "    </tr>\n",
       "    <tr>\n",
       "      <th>4</th>\n",
       "      <td>498.3</td>\n",
       "      <td>99.09</td>\n",
       "    </tr>\n",
       "    <tr>\n",
       "      <th>5</th>\n",
       "      <td>520.0</td>\n",
       "      <td>90.52</td>\n",
       "    </tr>\n",
       "    <tr>\n",
       "      <th>6</th>\n",
       "      <td>543.7</td>\n",
       "      <td>101.71</td>\n",
       "    </tr>\n",
       "    <tr>\n",
       "      <th>7</th>\n",
       "      <td>559.1</td>\n",
       "      <td>97.73</td>\n",
       "    </tr>\n",
       "    <tr>\n",
       "      <th>8</th>\n",
       "      <td>561.0</td>\n",
       "      <td>82.73</td>\n",
       "    </tr>\n",
       "    <tr>\n",
       "      <th>9</th>\n",
       "      <td>571.8</td>\n",
       "      <td>72.86</td>\n",
       "    </tr>\n",
       "  </tbody>\n",
       "</table>\n",
       "</div>"
      ],
      "text/plain": [
       "      x1       y\n",
       "1  348.7   85.09\n",
       "2  400.1  101.81\n",
       "3  480.9  104.05\n",
       "4  498.3   99.09\n",
       "5  520.0   90.52\n",
       "6  543.7  101.71\n",
       "7  559.1   97.73\n",
       "8  561.0   82.73\n",
       "9  571.8   72.86"
      ]
     },
     "execution_count": 15,
     "metadata": {},
     "output_type": "execute_result"
    }
   ],
   "source": [
    "df"
   ]
  },
  {
   "cell_type": "code",
   "execution_count": 16,
   "metadata": {
    "collapsed": true
   },
   "outputs": [],
   "source": [
    "lm = smf.ols(formula='y ~ x1', data = df).fit()"
   ]
  },
  {
   "cell_type": "code",
   "execution_count": 40,
   "metadata": {
    "collapsed": false
   },
   "outputs": [
    {
     "data": {
      "image/png": "[encoded data removed]",
      "text/plain": [
       "<matplotlib.figure.Figure at 0x114cf3a50>"
      ]
     },
     "metadata": {},
     "output_type": "display_data"
    }
   ],
   "source": [
    "import matplotlib.pylab as plt\n",
    "%matplotlib inline\n",
    "plt.figure(figsize=(8,8))\n",
    "plt.scatter(df.x1,df.y)\n",
    "plt.plot(df.x1,lm.predict(),c=\"r\")\n",
    "plt.xlabel('Car')\n",
    "plt.ylabel('PM2.5')\n",
    "plt.title('The relationship between the number of car and PM2.5 from 2008 to 2016')\n",
    "plt.show()"
   ]
  },
  {
   "cell_type": "code",
   "execution_count": 2,
   "metadata": {
    "collapsed": false
   },
   "outputs": [],
   "source": [
    "data = pd.read_csv('data.csv')"
   ]
  },
  {
   "cell_type": "code",
   "execution_count": 27,
   "metadata": {
    "collapsed": false
   },
   "outputs": [
    {
     "data": {
      "text/html": [
       "<div>\n",
       "<table border=\"1\" class=\"dataframe\">\n",
       "  <thead>\n",
       "    <tr style=\"text-align: right;\">\n",
       "      <th></th>\n",
       "      <th>Average relative humidity(%)</th>\n",
       "      <th>Average Temperature</th>\n",
       "      <th>Average wind speed (Km/h)</th>\n",
       "      <th>PM2.5</th>\n",
       "    </tr>\n",
       "  </thead>\n",
       "  <tbody>\n",
       "    <tr>\n",
       "      <th>0</th>\n",
       "      <td>42</td>\n",
       "      <td>1.7</td>\n",
       "      <td>8.0</td>\n",
       "      <td>33.50</td>\n",
       "    </tr>\n",
       "    <tr>\n",
       "      <th>1</th>\n",
       "      <td>54</td>\n",
       "      <td>1.3</td>\n",
       "      <td>5.6</td>\n",
       "      <td>104.54</td>\n",
       "    </tr>\n",
       "    <tr>\n",
       "      <th>2</th>\n",
       "      <td>76</td>\n",
       "      <td>1.1</td>\n",
       "      <td>5.0</td>\n",
       "      <td>259.08</td>\n",
       "    </tr>\n",
       "    <tr>\n",
       "      <th>3</th>\n",
       "      <td>67</td>\n",
       "      <td>2.0</td>\n",
       "      <td>6.3</td>\n",
       "      <td>273.17</td>\n",
       "    </tr>\n",
       "    <tr>\n",
       "      <th>4</th>\n",
       "      <td>35</td>\n",
       "      <td>-0.5</td>\n",
       "      <td>15.6</td>\n",
       "      <td>33.92</td>\n",
       "    </tr>\n",
       "    <tr>\n",
       "      <th>5</th>\n",
       "      <td>48</td>\n",
       "      <td>-0.7</td>\n",
       "      <td>6.1</td>\n",
       "      <td>102.75</td>\n",
       "    </tr>\n",
       "    <tr>\n",
       "      <th>6</th>\n",
       "      <td>62</td>\n",
       "      <td>2.1</td>\n",
       "      <td>7.0</td>\n",
       "      <td>144.58</td>\n",
       "    </tr>\n",
       "    <tr>\n",
       "      <th>7</th>\n",
       "      <td>36</td>\n",
       "      <td>2.6</td>\n",
       "      <td>20.0</td>\n",
       "      <td>89.75</td>\n",
       "    </tr>\n",
       "    <tr>\n",
       "      <th>8</th>\n",
       "      <td>42</td>\n",
       "      <td>-0.7</td>\n",
       "      <td>7.8</td>\n",
       "      <td>24.83</td>\n",
       "    </tr>\n",
       "    <tr>\n",
       "      <th>9</th>\n",
       "      <td>46</td>\n",
       "      <td>-1.7</td>\n",
       "      <td>5.0</td>\n",
       "      <td>50.71</td>\n",
       "    </tr>\n",
       "    <tr>\n",
       "      <th>10</th>\n",
       "      <td>65</td>\n",
       "      <td>0.6</td>\n",
       "      <td>6.1</td>\n",
       "      <td>215.38</td>\n",
       "    </tr>\n",
       "    <tr>\n",
       "      <th>11</th>\n",
       "      <td>58</td>\n",
       "      <td>1.9</td>\n",
       "      <td>8.5</td>\n",
       "      <td>217.96</td>\n",
       "    </tr>\n",
       "    <tr>\n",
       "      <th>12</th>\n",
       "      <td>29</td>\n",
       "      <td>-0.2</td>\n",
       "      <td>13.3</td>\n",
       "      <td>39.08</td>\n",
       "    </tr>\n",
       "    <tr>\n",
       "      <th>13</th>\n",
       "      <td>36</td>\n",
       "      <td>-1.9</td>\n",
       "      <td>7.4</td>\n",
       "      <td>28.71</td>\n",
       "    </tr>\n",
       "    <tr>\n",
       "      <th>14</th>\n",
       "      <td>36</td>\n",
       "      <td>-1.3</td>\n",
       "      <td>15.6</td>\n",
       "      <td>31.52</td>\n",
       "    </tr>\n",
       "    <tr>\n",
       "      <th>15</th>\n",
       "      <td>50</td>\n",
       "      <td>-0.8</td>\n",
       "      <td>5.4</td>\n",
       "      <td>124.25</td>\n",
       "    </tr>\n",
       "    <tr>\n",
       "      <th>16</th>\n",
       "      <td>68</td>\n",
       "      <td>-1.1</td>\n",
       "      <td>4.3</td>\n",
       "      <td>234.67</td>\n",
       "    </tr>\n",
       "    <tr>\n",
       "      <th>17</th>\n",
       "      <td>64</td>\n",
       "      <td>-0.8</td>\n",
       "      <td>5.6</td>\n",
       "      <td>184.29</td>\n",
       "    </tr>\n",
       "    <tr>\n",
       "      <th>18</th>\n",
       "      <td>68</td>\n",
       "      <td>-0.3</td>\n",
       "      <td>4.6</td>\n",
       "      <td>229.00</td>\n",
       "    </tr>\n",
       "    <tr>\n",
       "      <th>19</th>\n",
       "      <td>94</td>\n",
       "      <td>-2.1</td>\n",
       "      <td>5.6</td>\n",
       "      <td>364.79</td>\n",
       "    </tr>\n",
       "    <tr>\n",
       "      <th>20</th>\n",
       "      <td>73</td>\n",
       "      <td>0.8</td>\n",
       "      <td>6.5</td>\n",
       "      <td>381.67</td>\n",
       "    </tr>\n",
       "    <tr>\n",
       "      <th>21</th>\n",
       "      <td>35</td>\n",
       "      <td>0.4</td>\n",
       "      <td>18.3</td>\n",
       "      <td>76.63</td>\n",
       "    </tr>\n",
       "    <tr>\n",
       "      <th>22</th>\n",
       "      <td>45</td>\n",
       "      <td>-2.3</td>\n",
       "      <td>6.7</td>\n",
       "      <td>32.71</td>\n",
       "    </tr>\n",
       "    <tr>\n",
       "      <th>23</th>\n",
       "      <td>67</td>\n",
       "      <td>-3.1</td>\n",
       "      <td>4.4</td>\n",
       "      <td>139.00</td>\n",
       "    </tr>\n",
       "    <tr>\n",
       "      <th>24</th>\n",
       "      <td>68</td>\n",
       "      <td>-0.6</td>\n",
       "      <td>5.9</td>\n",
       "      <td>158.75</td>\n",
       "    </tr>\n",
       "    <tr>\n",
       "      <th>25</th>\n",
       "      <td>30</td>\n",
       "      <td>-1.6</td>\n",
       "      <td>10.0</td>\n",
       "      <td>55.67</td>\n",
       "    </tr>\n",
       "    <tr>\n",
       "      <th>26</th>\n",
       "      <td>46</td>\n",
       "      <td>-1.6</td>\n",
       "      <td>9.3</td>\n",
       "      <td>40.83</td>\n",
       "    </tr>\n",
       "    <tr>\n",
       "      <th>27</th>\n",
       "      <td>32</td>\n",
       "      <td>-2.2</td>\n",
       "      <td>19.3</td>\n",
       "      <td>70.67</td>\n",
       "    </tr>\n",
       "    <tr>\n",
       "      <th>28</th>\n",
       "      <td>44</td>\n",
       "      <td>-3.9</td>\n",
       "      <td>6.7</td>\n",
       "      <td>70.21</td>\n",
       "    </tr>\n",
       "    <tr>\n",
       "      <th>29</th>\n",
       "      <td>68</td>\n",
       "      <td>-5.0</td>\n",
       "      <td>3.9</td>\n",
       "      <td>268.42</td>\n",
       "    </tr>\n",
       "  </tbody>\n",
       "</table>\n",
       "</div>"
      ],
      "text/plain": [
       "    Average relative humidity(%)  Average Temperature  \\\n",
       "0                             42                  1.7   \n",
       "1                             54                  1.3   \n",
       "2                             76                  1.1   \n",
       "3                             67                  2.0   \n",
       "4                             35                 -0.5   \n",
       "5                             48                 -0.7   \n",
       "6                             62                  2.1   \n",
       "7                             36                  2.6   \n",
       "8                             42                 -0.7   \n",
       "9                             46                 -1.7   \n",
       "10                            65                  0.6   \n",
       "11                            58                  1.9   \n",
       "12                            29                 -0.2   \n",
       "13                            36                 -1.9   \n",
       "14                            36                 -1.3   \n",
       "15                            50                 -0.8   \n",
       "16                            68                 -1.1   \n",
       "17                            64                 -0.8   \n",
       "18                            68                 -0.3   \n",
       "19                            94                 -2.1   \n",
       "20                            73                  0.8   \n",
       "21                            35                  0.4   \n",
       "22                            45                 -2.3   \n",
       "23                            67                 -3.1   \n",
       "24                            68                 -0.6   \n",
       "25                            30                 -1.6   \n",
       "26                            46                 -1.6   \n",
       "27                            32                 -2.2   \n",
       "28                            44                 -3.9   \n",
       "29                            68                 -5.0   \n",
       "\n",
       "    Average wind speed (Km/h)   PM2.5  \n",
       "0                         8.0   33.50  \n",
       "1                         5.6  104.54  \n",
       "2                         5.0  259.08  \n",
       "3                         6.3  273.17  \n",
       "4                        15.6   33.92  \n",
       "5                         6.1  102.75  \n",
       "6                         7.0  144.58  \n",
       "7                        20.0   89.75  \n",
       "8                         7.8   24.83  \n",
       "9                         5.0   50.71  \n",
       "10                        6.1  215.38  \n",
       "11                        8.5  217.96  \n",
       "12                       13.3   39.08  \n",
       "13                        7.4   28.71  \n",
       "14                       15.6   31.52  \n",
       "15                        5.4  124.25  \n",
       "16                        4.3  234.67  \n",
       "17                        5.6  184.29  \n",
       "18                        4.6  229.00  \n",
       "19                        5.6  364.79  \n",
       "20                        6.5  381.67  \n",
       "21                       18.3   76.63  \n",
       "22                        6.7   32.71  \n",
       "23                        4.4  139.00  \n",
       "24                        5.9  158.75  \n",
       "25                       10.0   55.67  \n",
       "26                        9.3   40.83  \n",
       "27                       19.3   70.67  \n",
       "28                        6.7   70.21  \n",
       "29                        3.9  268.42  "
      ]
     },
     "execution_count": 27,
     "metadata": {},
     "output_type": "execute_result"
    }
   ],
   "source": [
    "data"
   ]
  },
  {
   "cell_type": "code",
   "execution_count": 3,
   "metadata": {
    "collapsed": true
   },
   "outputs": [],
   "source": [
    "data.columns = ['humidity', 'Temperature', 'wind','PM']"
   ]
  },
  {
   "cell_type": "code",
   "execution_count": 4,
   "metadata": {
    "collapsed": false
   },
   "outputs": [
    {
     "data": {
      "text/html": [
       "<div>\n",
       "<table border=\"1\" class=\"dataframe\">\n",
       "  <thead>\n",
       "    <tr style=\"text-align: right;\">\n",
       "      <th></th>\n",
       "      <th>humidity</th>\n",
       "      <th>Temperature</th>\n",
       "      <th>wind</th>\n",
       "      <th>PM</th>\n",
       "    </tr>\n",
       "  </thead>\n",
       "  <tbody>\n",
       "    <tr>\n",
       "      <th>0</th>\n",
       "      <td>42</td>\n",
       "      <td>1.7</td>\n",
       "      <td>8.0</td>\n",
       "      <td>33.50</td>\n",
       "    </tr>\n",
       "    <tr>\n",
       "      <th>1</th>\n",
       "      <td>54</td>\n",
       "      <td>1.3</td>\n",
       "      <td>5.6</td>\n",
       "      <td>104.54</td>\n",
       "    </tr>\n",
       "    <tr>\n",
       "      <th>2</th>\n",
       "      <td>76</td>\n",
       "      <td>1.1</td>\n",
       "      <td>5.0</td>\n",
       "      <td>259.08</td>\n",
       "    </tr>\n",
       "    <tr>\n",
       "      <th>3</th>\n",
       "      <td>67</td>\n",
       "      <td>2.0</td>\n",
       "      <td>6.3</td>\n",
       "      <td>273.17</td>\n",
       "    </tr>\n",
       "    <tr>\n",
       "      <th>4</th>\n",
       "      <td>35</td>\n",
       "      <td>-0.5</td>\n",
       "      <td>15.6</td>\n",
       "      <td>33.92</td>\n",
       "    </tr>\n",
       "  </tbody>\n",
       "</table>\n",
       "</div>"
      ],
      "text/plain": [
       "   humidity  Temperature  wind      PM\n",
       "0        42          1.7   8.0   33.50\n",
       "1        54          1.3   5.6  104.54\n",
       "2        76          1.1   5.0  259.08\n",
       "3        67          2.0   6.3  273.17\n",
       "4        35         -0.5  15.6   33.92"
      ]
     },
     "execution_count": 4,
     "metadata": {},
     "output_type": "execute_result"
    }
   ],
   "source": [
    "data.head()"
   ]
  },
  {
   "cell_type": "code",
   "execution_count": 5,
   "metadata": {
    "collapsed": false
   },
   "outputs": [],
   "source": [
    "lm2 = smf.ols(formula = 'PM ~ humidity + Temperature + wind',data = data).fit()"
   ]
  },
  {
   "cell_type": "code",
   "execution_count": 6,
   "metadata": {
    "collapsed": false
   },
   "outputs": [
    {
     "data": {
      "text/plain": [
       "<matplotlib.text.Text at 0x11b984590>"
      ]
     },
     "execution_count": 6,
     "metadata": {},
     "output_type": "execute_result"
    },
    {
     "data": {
      "image/png": "[encoded data removed]",
      "text/plain": [
       "<matplotlib.figure.Figure at 0x117e31f90>"
      ]
     },
     "metadata": {},
     "output_type": "display_data"
    }
   ],
   "source": [
    "lmy = lm2.predict(data)   # Calculate the predicted value\n",
    "plt.figure(figsize = (8,6))\n",
    "plt.plot(lmy,data.PM,'or', markersize = 8) # Plot the observed value\n",
    "plt.plot(lmy,lmy,'-b', lw = 3)                         # Plot the predicted value\n",
    "# Students are not required to have such visualization settings as long as they got the correct answer\n",
    "plt.xlabel('Prediction', fontsize = 16)\n",
    "plt.ylabel('Observation', fontsize = 16)\n",
    "plt.title('title', fontsize = 16)"
   ]
  },
  {
   "cell_type": "code",
   "execution_count": 37,
   "metadata": {
    "collapsed": false
   },
   "outputs": [
    {
     "data": {
      "text/html": [
       "<div>\n",
       "<table border=\"1\" class=\"dataframe\">\n",
       "  <thead>\n",
       "    <tr style=\"text-align: right;\">\n",
       "      <th></th>\n",
       "      <th>humidity</th>\n",
       "      <th>Temperature</th>\n",
       "      <th>wind</th>\n",
       "      <th>PM</th>\n",
       "    </tr>\n",
       "  </thead>\n",
       "  <tbody>\n",
       "    <tr>\n",
       "      <th>humidity</th>\n",
       "      <td>1.000000</td>\n",
       "      <td>0.035097</td>\n",
       "      <td>-0.682090</td>\n",
       "      <td>0.892729</td>\n",
       "    </tr>\n",
       "    <tr>\n",
       "      <th>Temperature</th>\n",
       "      <td>0.035097</td>\n",
       "      <td>1.000000</td>\n",
       "      <td>0.193519</td>\n",
       "      <td>0.129287</td>\n",
       "    </tr>\n",
       "    <tr>\n",
       "      <th>wind</th>\n",
       "      <td>-0.682090</td>\n",
       "      <td>0.193519</td>\n",
       "      <td>1.000000</td>\n",
       "      <td>-0.464529</td>\n",
       "    </tr>\n",
       "    <tr>\n",
       "      <th>PM</th>\n",
       "      <td>0.892729</td>\n",
       "      <td>0.129287</td>\n",
       "      <td>-0.464529</td>\n",
       "      <td>1.000000</td>\n",
       "    </tr>\n",
       "  </tbody>\n",
       "</table>\n",
       "</div>"
      ],
      "text/plain": [
       "             humidity  Temperature      wind        PM\n",
       "humidity     1.000000     0.035097 -0.682090  0.892729\n",
       "Temperature  0.035097     1.000000  0.193519  0.129287\n",
       "wind        -0.682090     0.193519  1.000000 -0.464529\n",
       "PM           0.892729     0.129287 -0.464529  1.000000"
      ]
     },
     "execution_count": 37,
     "metadata": {},
     "output_type": "execute_result"
    }
   ],
   "source": [
    "data.corr()"
   ]
  },
  {
   "cell_type": "code",
   "execution_count": 7,
   "metadata": {
    "collapsed": false
   },
   "outputs": [
    {
     "data": {
      "text/html": [
       "<table class=\"simpletable\">\n",
       "<caption>OLS Regression Results</caption>\n",
       "<tr>\n",
       "  <th>Dep. Variable:</th>           <td>PM</td>        <th>  R-squared:         </th> <td>   0.838</td>\n",
       "</tr>\n",
       "<tr>\n",
       "  <th>Model:</th>                   <td>OLS</td>       <th>  Adj. R-squared:    </th> <td>   0.819</td>\n",
       "</tr>\n",
       "<tr>\n",
       "  <th>Method:</th>             <td>Least Squares</td>  <th>  F-statistic:       </th> <td>   44.71</td>\n",
       "</tr>\n",
       "<tr>\n",
       "  <th>Date:</th>             <td>Thu, 30 Mar 2017</td> <th>  Prob (F-statistic):</th> <td>2.10e-10</td>\n",
       "</tr>\n",
       "<tr>\n",
       "  <th>Time:</th>                 <td>19:16:56</td>     <th>  Log-Likelihood:    </th> <td> -154.12</td>\n",
       "</tr>\n",
       "<tr>\n",
       "  <th>No. Observations:</th>      <td>    30</td>      <th>  AIC:               </th> <td>   316.2</td>\n",
       "</tr>\n",
       "<tr>\n",
       "  <th>Df Residuals:</th>          <td>    26</td>      <th>  BIC:               </th> <td>   321.8</td>\n",
       "</tr>\n",
       "<tr>\n",
       "  <th>Df Model:</th>              <td>     3</td>      <th>                     </th>     <td> </td>   \n",
       "</tr>\n",
       "<tr>\n",
       "  <th>Covariance Type:</th>      <td>nonrobust</td>    <th>                     </th>     <td> </td>   \n",
       "</tr>\n",
       "</table>\n",
       "<table class=\"simpletable\">\n",
       "<tr>\n",
       "       <td></td>          <th>coef</th>     <th>std err</th>      <th>t</th>      <th>P>|t|</th> <th>[95.0% Conf. Int.]</th> \n",
       "</tr>\n",
       "<tr>\n",
       "  <th>Intercept</th>   <td> -264.6228</td> <td>   55.551</td> <td>   -4.764</td> <td> 0.000</td> <td> -378.810  -150.436</td>\n",
       "</tr>\n",
       "<tr>\n",
       "  <th>humidity</th>    <td>    6.7201</td> <td>    0.702</td> <td>    9.570</td> <td> 0.000</td> <td>    5.277     8.163</td>\n",
       "</tr>\n",
       "<tr>\n",
       "  <th>Temperature</th> <td>    2.4516</td> <td>    4.711</td> <td>    0.520</td> <td> 0.607</td> <td>   -7.232    12.135</td>\n",
       "</tr>\n",
       "<tr>\n",
       "  <th>wind</th>        <td>    5.5907</td> <td>    2.506</td> <td>    2.231</td> <td> 0.035</td> <td>    0.439    10.742</td>\n",
       "</tr>\n",
       "</table>\n",
       "<table class=\"simpletable\">\n",
       "<tr>\n",
       "  <th>Omnibus:</th>       <td> 3.892</td> <th>  Durbin-Watson:     </th> <td>   2.045</td>\n",
       "</tr>\n",
       "<tr>\n",
       "  <th>Prob(Omnibus):</th> <td> 0.143</td> <th>  Jarque-Bera (JB):  </th> <td>   2.544</td>\n",
       "</tr>\n",
       "<tr>\n",
       "  <th>Skew:</th>          <td> 0.682</td> <th>  Prob(JB):          </th> <td>   0.280</td>\n",
       "</tr>\n",
       "<tr>\n",
       "  <th>Kurtosis:</th>      <td> 3.417</td> <th>  Cond. No.          </th> <td>    383.</td>\n",
       "</tr>\n",
       "</table>"
      ],
      "text/plain": [
       "<class 'statsmodels.iolib.summary.Summary'>\n",
       "\"\"\"\n",
       "                            OLS Regression Results                            \n",
       "==============================================================================\n",
       "Dep. Variable:                     PM   R-squared:                       0.838\n",
       "Model:                            OLS   Adj. R-squared:                  0.819\n",
       "Method:                 Least Squares   F-statistic:                     44.71\n",
       "Date:                Thu, 30 Mar 2017   Prob (F-statistic):           2.10e-10\n",
       "Time:                        19:16:56   Log-Likelihood:                -154.12\n",
       "No. Observations:                  30   AIC:                             316.2\n",
       "Df Residuals:                      26   BIC:                             321.8\n",
       "Df Model:                           3                                         \n",
       "Covariance Type:            nonrobust                                         \n",
       "===============================================================================\n",
       "                  coef    std err          t      P>|t|      [95.0% Conf. Int.]\n",
       "-------------------------------------------------------------------------------\n",
       "Intercept    -264.6228     55.551     -4.764      0.000      -378.810  -150.436\n",
       "humidity        6.7201      0.702      9.570      0.000         5.277     8.163\n",
       "Temperature     2.4516      4.711      0.520      0.607        -7.232    12.135\n",
       "wind            5.5907      2.506      2.231      0.035         0.439    10.742\n",
       "==============================================================================\n",
       "Omnibus:                        3.892   Durbin-Watson:                   2.045\n",
       "Prob(Omnibus):                  0.143   Jarque-Bera (JB):                2.544\n",
       "Skew:                           0.682   Prob(JB):                        0.280\n",
       "Kurtosis:                       3.417   Cond. No.                         383.\n",
       "==============================================================================\n",
       "\n",
       "Warnings:\n",
       "[1] Standard Errors assume that the covariance matrix of the errors is correctly specified.\n",
       "\"\"\""
      ]
     },
     "execution_count": 7,
     "metadata": {},
     "output_type": "execute_result"
    }
   ],
   "source": [
    "lm2.summary()"
   ]
  },
  {
   "cell_type": "code",
   "execution_count": 2,
   "metadata": {
    "collapsed": true
   },
   "outputs": [],
   "source": [
    "import numpy as np"
   ]
  },
  {
   "cell_type": "code",
   "execution_count": 3,
   "metadata": {
    "collapsed": false
   },
   "outputs": [],
   "source": [
    "A = np.array([2,1,0,1,1,0,0,0,0])\n",
    "B = np.array([1,2,0,1,1,0,0,0,0])\n",
    "C = np.array([0,0,2,0,1,0,0,0,1])\n",
    "D = np.array([1,1,0,2,1,0,0,1,0])\n",
    "E = np.array([1,1,1,1,2,0,0,0,0])\n",
    "F = np.array([0,0,1,0,0,2,0,0,1])\n",
    "G = np.array([0,0,0,0,0,0,2,1,0])\n",
    "H = np.array([0,0,0,1,0,0,0,2,0])\n",
    "I = np.array([0,0,1,0,0,1,0,0,2])"
   ]
  },
  {
   "cell_type": "code",
   "execution_count": 53,
   "metadata": {
    "collapsed": true
   },
   "outputs": [],
   "source": [
    "c1 = np.array([4.0/3, 4.0/3, 1.0/3, 3.0/3, 4.0/3, 0, 0, 0, 0])\n",
    "c2 = np.array([0, 0, 4.0/4, 0, 1.0/4, 3.0/4, 2.0/4, 1.0/4, 1.0])\n",
    "c3 = np.array([1.0/2, 1.0/2, 0, 1.5, 0.5, 0, 0, 1.5, 0])"
   ]
  },
  {
   "cell_type": "code",
   "execution_count": 52,
   "metadata": {
    "collapsed": false
   },
   "outputs": [
    {
     "name": "stdout",
     "output_type": "stream",
     "text": [
      "[0 0 4 0 1 3 2 1 4]\n"
     ]
    }
   ],
   "source": [
    "c = C+F+G+I\n",
    "print c"
   ]
  },
  {
   "cell_type": "code",
   "execution_count": 4,
   "metadata": {
    "collapsed": true
   },
   "outputs": [],
   "source": [
    "import numpy"
   ]
  },
  {
   "cell_type": "code",
   "execution_count": 54,
   "metadata": {
    "collapsed": false
   },
   "outputs": [],
   "source": [
    "def calculate(n):    \n",
    "    dis =numpy.linalg.norm(n-c1)\n",
    "    dis2 =numpy.linalg.norm(n-c2)\n",
    "    dis3 =numpy.linalg.norm(n-c3)\n",
    "    print ('%0.4f, %0.4f, %0.4f'%(dis, dis2, dis3))"
   ]
  },
  {
   "cell_type": "code",
   "execution_count": 55,
   "metadata": {
    "collapsed": false
   },
   "outputs": [
    {
     "name": "stdout",
     "output_type": "stream",
     "text": [
      "A\n",
      "0.8819, 3.0721, 2.2913\n",
      "B\n",
      "0.8819, 3.0721, 2.2913\n",
      "C\n",
      "2.9059, 1.5612, 3.2016\n",
      "D\n",
      "1.5635, 3.1524, 1.1180\n",
      "E\n",
      "1.0541, 2.8174, 2.5000\n",
      "F\n",
      "3.4319, 1.3919, 3.3541\n",
      "G\n",
      "3.3830, 2.3318, 2.6926\n",
      "H\n",
      "3.0732, 2.6339, 1.1180\n",
      "I\n",
      "3.4319, 1.1990, 3.3541\n"
     ]
    }
   ],
   "source": [
    "l = [A, B, C, D, E, F, G, H, I]\n",
    "l2 = ['A', 'B', 'C', 'D', 'E', 'F', 'G', 'H', 'I']\n",
    "j = 0\n",
    "for i in l:\n",
    "    print l2[j]\n",
    "    j += 1\n",
    "    calculate(i)"
   ]
  }
 ],
 "metadata": {
  "kernelspec": {
   "display_name": "Python 2",
   "language": "python",
   "name": "python2"
  },
  "language_info": {
   "codemirror_mode": {
    "name": "ipython",
    "version": 2
   },
   "file_extension": ".py",
   "mimetype": "text/x-python",
   "name": "python",
   "nbconvert_exporter": "python",
   "pygments_lexer": "ipython2",
   "version": "2.7.13"
  }
 },
 "nbformat": 4,
 "nbformat_minor": 2
}
